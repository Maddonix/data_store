{
 "cells": [
  {
   "cell_type": "code",
   "execution_count": 1,
   "id": "f35d5900-ee12-4acb-90e4-d2bc097e6420",
   "metadata": {},
   "outputs": [],
   "source": [
    "from src.db import get_engine\n",
    "from sqlalchemy.orm import Session\n",
    "from src.schemas.base_schemas import Data, DataModel\n",
    "from pathlib import Path\n",
    "from src.importer.audio_data_synth_soundscapes import ImporterAudioDataSynthSoundscapes, SynthAudioConfig\n",
    "import json"
   ]
  },
  {
   "cell_type": "code",
   "execution_count": 2,
   "id": "5ad24641-e985-4ba3-8e97-2853ccaf394a",
   "metadata": {},
   "outputs": [],
   "source": [
    "from src.datasets.audio_dataset_strong import AudioDatasetStrong\n",
    "from src.importer.audio_data_synth_soundscapes import ImporterAudioDataSynthSoundscapes"
   ]
  },
  {
   "cell_type": "code",
   "execution_count": 3,
   "id": "c3d107af-d15f-44b5-82e5-69bebe41e0fc",
   "metadata": {},
   "outputs": [],
   "source": [
    "# Example to import synth audio data\n",
    "data_path = Path(\"/home/lux_t1/Desktop/endo_audio_scaper/scaper/soundscapes/train\")\n",
    "wav_paths = [_ for _ in data_path.iterdir() if _.suffix==\".wav\"]\n",
    "label_paths = [_.with_suffix(\".txt\") for _ in wav_paths]\n",
    "cfg_path = Path(\"/home/lux_t1/Desktop/endo_audio_scaper/scaper/soundscapes/2021 05 05 11h 08min_cfg.json\")\n",
    "with open(cfg_path, \"r\") as f:\n",
    "    synth_config = json.load(f)"
   ]
  },
  {
   "cell_type": "code",
   "execution_count": 4,
   "id": "24b3020e-b7f7-46cf-a912-22d188b75ebb",
   "metadata": {},
   "outputs": [],
   "source": [
    "importer = ImporterAudioDataSynthSoundscapes()"
   ]
  },
  {
   "cell_type": "code",
   "execution_count": 5,
   "id": "04ff6bc9-fe60-439e-92b2-f7902b10cccc",
   "metadata": {},
   "outputs": [
    {
     "data": {
      "application/vnd.jupyter.widget-view+json": {
       "model_id": "499cce6ce8674231b481c9ca98984cbe",
       "version_major": 2,
       "version_minor": 0
      },
      "text/plain": [
       "  0%|          | 0/10000 [00:00<?, ?it/s]"
      ]
     },
     "metadata": {},
     "output_type": "display_data"
    }
   ],
   "source": [
    "importer.import_file_list(paths_data = wav_paths, paths_labels = label_paths, synth_config = synth_config)"
   ]
  },
  {
   "cell_type": "code",
   "execution_count": 2,
   "id": "c54e836f-d6e5-4f9c-a616-106421feb44b",
   "metadata": {},
   "outputs": [
    {
     "name": "stdout",
     "output_type": "stream",
     "text": [
      "(tensor([[-2.2854e-06, -4.9553e-04, -9.1210e-04,  ..., -4.1573e-01,\n",
      "         -4.3375e-01, -4.1940e-01]]), array([1, 0, 0, 0, 0, 0, 0, 0]))\n"
     ]
    }
   ],
   "source": [
    "# example to read dataset\n",
    "# Strong labels:\n",
    "# ds_strong = AudioDatasetStrong(sr = 44000, classes = [\n",
    "#         \"gas_turn_on\",\n",
    "#         \"bed_barrier_down\",\n",
    "#         \"processor_running\",\n",
    "#         \"lightsource_running\",\n",
    "#         \"suction_running\",\n",
    "#         \"gas_running\",\n",
    "#         \"oxygen_running\",\n",
    "#         \"processor_turn_on\"\n",
    "#     ], label_type = \"strong\")\n",
    "\n",
    "# print(ds_strong.__getitem__(12))\n",
    "\n",
    "ds_weak = AudioDatasetStrong(sr = 44000, classes = [\n",
    "        \"gas_turn_on\",\n",
    "        \"bed_barrier_down\",\n",
    "        \"processor_running\",\n",
    "        \"lightsource_running\",\n",
    "        \"suction_running\",\n",
    "        \"gas_running\",\n",
    "        \"oxygen_running\",\n",
    "        \"processor_turn_on\"\n",
    "    ], label_type = \"weak\")\n",
    "\n",
    "print(ds_weak.__getitem__(12))"
   ]
  },
  {
   "cell_type": "code",
   "execution_count": 6,
   "id": "5495f5c4-65ca-45ac-a4b5-1e764fd720ba",
   "metadata": {},
   "outputs": [
    {
     "data": {
      "text/plain": [
       "True"
      ]
     },
     "execution_count": 6,
     "metadata": {},
     "output_type": "execute_result"
    }
   ],
   "source": [
    "_=Path(\"data/audio/synth/932.json\")\n",
    "_.exists()"
   ]
  },
  {
   "cell_type": "code",
   "execution_count": 10,
   "id": "fdf35449-19cd-4281-837c-d1f79cb21299",
   "metadata": {},
   "outputs": [
    {
     "data": {
      "text/plain": [
       "'/home/lux_t1/Desktop/data_store/ASD'"
      ]
     },
     "execution_count": 10,
     "metadata": {},
     "output_type": "execute_result"
    }
   ],
   "source": [
    "Path(\"ASD/\").absolute().as_posix()"
   ]
  },
  {
   "cell_type": "code",
   "execution_count": null,
   "id": "44bb3f4a-a513-443d-9861-c512bd786239",
   "metadata": {},
   "outputs": [],
   "source": []
  }
 ],
 "metadata": {
  "kernelspec": {
   "display_name": "Python 3",
   "language": "python",
   "name": "python3"
  },
  "language_info": {
   "codemirror_mode": {
    "name": "ipython",
    "version": 3
   },
   "file_extension": ".py",
   "mimetype": "text/x-python",
   "name": "python",
   "nbconvert_exporter": "python",
   "pygments_lexer": "ipython3",
   "version": "3.9.4"
  }
 },
 "nbformat": 4,
 "nbformat_minor": 5
}
